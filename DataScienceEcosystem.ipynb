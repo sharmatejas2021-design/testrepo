{
 "cells": [
  {
   "cell_type": "markdown",
   "id": "8cae4874-ecf8-4512-abf3-e74af731b27c",
   "metadata": {},
   "source": [
    "#  Data Science Tools and Ecosystem"
   ]
  },
  {
   "cell_type": "markdown",
   "id": "f1429096-f9db-4b7d-946d-2900fa57d00a",
   "metadata": {},
   "source": [
    "In this notebook, Data Science Tools and Ecosystem are summarized."
   ]
  },
  {
   "cell_type": "markdown",
   "id": "29a5be76-8520-4a56-bca5-4936abd84b30",
   "metadata": {},
   "source": [
    "__Objectives:__\n",
    "- Popular languages for data science\n",
    "- Commonly used libraries for data science\n",
    "- Features of Jupyter notebooks"
   ]
  },
  {
   "cell_type": "markdown",
   "id": "3ee07382-0fd0-4d4e-a452-3e8bbb407c3e",
   "metadata": {},
   "source": [
    "Some of the popular languages that Data Scientists use are:\n",
    "1. Python\n",
    "2. R\n",
    "3. Scala"
   ]
  },
  {
   "cell_type": "markdown",
   "id": "6903ba6f-139c-46fd-bedb-3f1d7c67942f",
   "metadata": {},
   "source": [
    "Some of the commonly used libraries used by Data Scientists include:\n",
    "1. NumPy\n",
    "2. Pandas\n",
    "3. Matplotlib"
   ]
  },
  {
   "cell_type": "markdown",
   "id": "f9b53f82-7515-488e-bf10-1f2f06ed9de3",
   "metadata": {},
   "source": [
    "|Data Science Tools|\n",
    "|------------------|\n",
    "|VS Code|\n",
    "|Jupyter Notebook|\n",
    "|Anaconda|"
   ]
  },
  {
   "cell_type": "markdown",
   "id": "8edf91cd-2650-458d-ae5d-1751ec71a758",
   "metadata": {},
   "source": [
    "### Below are a few examples of evaluating arithmetic expressions in Python"
   ]
  },
  {
   "cell_type": "code",
   "execution_count": 5,
   "id": "09167a5a-aa66-4d03-b4f8-8686a280f04a",
   "metadata": {},
   "outputs": [
    {
     "data": {
      "text/plain": [
       "17"
      ]
     },
     "execution_count": 5,
     "metadata": {},
     "output_type": "execute_result"
    }
   ],
   "source": [
    "#This a simple arithmetic expression to multiply then add integers\n",
    "(3*4)+5"
   ]
  },
  {
   "cell_type": "code",
   "execution_count": 8,
   "id": "c1f40033-eae9-4a16-a5a1-78326a063488",
   "metadata": {},
   "outputs": [
    {
     "name": "stdout",
     "output_type": "stream",
     "text": [
      "3.3333333333333335 hrs\n"
     ]
    }
   ],
   "source": [
    "#This will convert 200 minutes to hours by diving by 60\n",
    "minutes=200\n",
    "hours=minutes/60\n",
    "print(hours,\"hrs\")"
   ]
  },
  {
   "cell_type": "markdown",
   "id": "b67d61e8-ae38-4f0e-8da3-101e3aa0cd69",
   "metadata": {},
   "source": [
    "## Author\n",
    "Tejas Sharma"
   ]
  }
 ],
 "metadata": {
  "kernelspec": {
   "display_name": "Python 3 (ipykernel)",
   "language": "python",
   "name": "python3"
  },
  "language_info": {
   "codemirror_mode": {
    "name": "ipython",
    "version": 3
   },
   "file_extension": ".py",
   "mimetype": "text/x-python",
   "name": "python",
   "nbconvert_exporter": "python",
   "pygments_lexer": "ipython3",
   "version": "3.12.8"
  }
 },
 "nbformat": 4,
 "nbformat_minor": 5
}
